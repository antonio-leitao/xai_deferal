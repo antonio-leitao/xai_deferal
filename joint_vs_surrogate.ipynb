{
  "cells": [
    {
      "cell_type": "code",
      "execution_count": null,
      "metadata": {
        "id": "XJvYHDCHUrij"
      },
      "outputs": [],
      "source": [
        "!git clone https://github.com/clinicalml/human_ai_deferral.git\n",
        "%cd human_ai_deferral\n",
        "!mkdir data\n",
        "!pip install -r requirements.txt"
      ]
    },
    {
      "cell_type": "code",
      "execution_count": null,
      "metadata": {
        "id": "kWLDFGTzX9hd"
      },
      "outputs": [],
      "source": [
        "!pip install sentence-transformers gurobipy shap"
      ]
    },
    {
      "cell_type": "code",
      "execution_count": null,
      "metadata": {
        "id": "swMlTo0HXPcG"
      },
      "outputs": [],
      "source": [
        "import torch\n",
        "from helpers.metrics import *\n",
        "from networks.linear_net import *\n",
        "from networks.non_linear_net import *\n",
        "import torch.optim as optim\n",
        "#from datasetsdefer.hatespeech import *\n",
        "from datasetsdefer.broward import *\n",
        "from methods.realizable_surrogate import *\n",
        "import os\n",
        "device = torch.device(\"cuda:0\" if torch.cuda.is_available() else \"cpu\")\n",
        "optimizer = optim.Adam\n",
        "scheduler = None\n",
        "lr = 1e-2\n",
        "total_epochs = 50\n",
        "# generate data\n",
        "#dataset = HateSpeech(\"data\", True, False, 'random_annotator', device)\n",
        "dataset = BrowardDataset(\"data\")\n",
        "model = LinearNet(dataset.d, 4).to(device)\n",
        "#model = NonLinearNet(dataset.d, 4).to(device)\n",
        "# instatiate method\n",
        "RS = RealizableSurrogate(1, 300, model, device, True)\n",
        "RS.fit_hyperparam(\n",
        "    dataset.data_train_loader,\n",
        "    dataset.data_val_loader,\n",
        "    dataset.data_test_loader,\n",
        "    epochs=total_epochs,\n",
        "    optimizer=optimizer,\n",
        "    scheduler=scheduler,\n",
        "    lr=lr,\n",
        "    verbose=False,\n",
        "    test_interval=5,\n",
        ")\n",
        "rs_metrics = compute_deferral_metrics(RS.test(dataset.data_test_loader))"
      ]
    },
    {
      "cell_type": "code",
      "execution_count": 29,
      "metadata": {
        "id": "5ZyafFHLh86-"
      },
      "outputs": [],
      "source": [
        "import torch.nn.functional as F\n",
        "import torch\n",
        "import numpy as np\n",
        "\n",
        "#for batch, (data_x, data_y, hum_preds) in enumerate(dataloader):\n",
        "def predict(data_x):\n",
        "  outputs = RS.model(torch.from_numpy(data_x))\n",
        "  outputs_class = F.softmax(outputs[:, :-1], dim=1)\n",
        "  outputs = F.softmax(outputs, dim=1)\n",
        "  max_probs, predicted_class = torch.max(outputs.data[:, :-1], 1)\n",
        "  defer_score = [ outputs.data[i][-1].item() - outputs.data[i][predicted_class[i]].item() for i in range(len(outputs.data))]\n",
        "  return np.array(defer_score)\n"
      ]
    },
    {
      "cell_type": "code",
      "source": [
        "import xgboost as xgb\n",
        "from sklearn.metrics import mean_squared_error\n",
        "from sklearn.tree import DecisionTreeRegressor\n",
        "\n",
        "def train_surrogate_rejector(dataset):\n",
        "  X_list,y_list =[],[]\n",
        "  for data_x, data_y, human_y in dataset.data_train_loader:\n",
        "    #concatenate all data_x\n",
        "    X_list.append(data_x.numpy())\n",
        "\n",
        "    #get model rejection values\n",
        "    rej_score = predict(data_x.numpy())\n",
        "    y_list.append(rej_score)\n",
        "  X, y = np.vstack(X_list), np.vstack(y_list).flatten()\n",
        "  surrogate_rejector = xgb.XGBRegressor().fit(X, y)\n",
        "  #surrogate_rejector = DecisionTreeRegressor().fit(X, y)\n",
        "  # EVALUATE PERFORMANCE ON VAL\n",
        "  X_val, _, _ =next(iter(dataset.data_val_loader))\n",
        "  y_val = predict(X_val.numpy())\n",
        "  # Make predictions\n",
        "  y_pred = surrogate_rejector.predict(X_val)\n",
        "  # Training Loss\n",
        "  mse = mean_squared_error(y_val, y_pred)\n",
        "  print(f\"Val MSE: {mse}\")\n",
        "  return surrogate_rejector"
      ],
      "metadata": {
        "id": "NOlmOyoK38Ur"
      },
      "execution_count": 30,
      "outputs": []
    },
    {
      "cell_type": "code",
      "source": [
        "test_data = RS.test(dataset.data_test_loader)\n",
        "error = -np.log(test_data[\"class_probs\"][np.arange(len(test_data[\"labels\"])), test_data[\"labels\"]])\n",
        "#train surrogate rejector\n",
        "surrogate = train_surrogate_rejector(dataset)\n",
        "X_test, _, _ =next(iter(dataset.data_test_loader))\n",
        "# Surrogate deferal predictions\n",
        "surr_pred = surrogate.predict(X_test)\n"
      ],
      "metadata": {
        "colab": {
          "base_uri": "https://localhost:8080/"
        },
        "id": "dFPMPF7-kNQ-",
        "outputId": "1ffb0146-e7de-4527-810e-6f6ee6e23247"
      },
      "execution_count": 31,
      "outputs": [
        {
          "output_type": "stream",
          "name": "stdout",
          "text": [
            "Val MSE: 0.002855301452813938\n"
          ]
        }
      ]
    },
    {
      "cell_type": "code",
      "source": [
        "import matplotlib.pyplot as plt\n",
        "fig, ax = plt.subplots(figsize=(4.8,3),dpi=200)\n",
        "ax.scatter(error,test_data[\"rej_score\"],marker=\".\")\n",
        "ax.axhline(0,linestyle=\"--\", color=\"k\")\n",
        "ax.set_xlabel(r\"$\\bf{Prediction\\:Error}$\" + \"\\nCross Entropy\")\n",
        "ax.set_ylim(-1,0.5)\n",
        "ax.set_yticks([-1,0,0.5],[-1,0,0.5])\n",
        "ax.set_ylabel(\"Rejection probability\")\n",
        "ax.spines[['right', 'top']].set_visible(False)"
      ],
      "metadata": {
        "id": "ny0c3QxygCjj"
      },
      "execution_count": null,
      "outputs": []
    },
    {
      "cell_type": "code",
      "source": [
        "import matplotlib.pyplot as plt\n",
        "fig, ax = plt.subplots(figsize=(4.8,3),dpi=200)\n",
        "ax.scatter(error,surr_pred,marker=\".\")\n",
        "ax.axhline(0,linestyle=\"--\", color=\"k\")\n",
        "ax.set_xlabel(r\"$\\bf{Prediction\\:Error}$\" + \"\\nCross Entropy\")\n",
        "ax.set_ylim(-1,0.5)\n",
        "ax.set_yticks([-1,0,0.5],[-1,0,0.5])\n",
        "ax.set_ylabel(\"Rejection probability\")\n",
        "ax.spines[['right', 'top']].set_visible(False)"
      ],
      "metadata": {
        "id": "DbsdlsnwgO16"
      },
      "execution_count": null,
      "outputs": []
    },
    {
      "cell_type": "code",
      "execution_count": 34,
      "metadata": {
        "colab": {
          "base_uri": "https://localhost:8080/",
          "height": 87,
          "referenced_widgets": [
            "3c62128f921d4bf1b53119f39b19b0b4",
            "0eb64b3a9296409397450be2635d6422",
            "8aacc145196243dfb2a7dae0c0bf81a0",
            "35eb09c87e814045b6ecf8d833a91629",
            "2613b59de73f41d4862c2431f84b4a94",
            "727ca0bb91c2419e91df2ae6ee8c39b4",
            "951343d9b594491ebab57f98d8ddb550",
            "67a8041b2aad4b8d9af0930ddafb68ef",
            "61ae9c1f17464f0385a0cf2e265e2252",
            "252f405df2a247cd9e295f9a81ad1d9f",
            "d901c3e6f7b04c5fb46c473af6edb01c"
          ]
        },
        "id": "a1i0EHlxvvod",
        "outputId": "6c5db1d3-6347-412d-e919-083973681bbb"
      },
      "outputs": [
        {
          "output_type": "stream",
          "name": "stderr",
          "text": [
            "WARNING:shap:Using 200 background data samples could cause slower run times. Consider using shap.sample(data, K) or shap.kmeans(data, K) to summarize the background as K samples.\n"
          ]
        },
        {
          "output_type": "display_data",
          "data": {
            "text/plain": [
              "  0%|          | 0/200 [00:00<?, ?it/s]"
            ],
            "application/vnd.jupyter.widget-view+json": {
              "version_major": 2,
              "version_minor": 0,
              "model_id": "3c62128f921d4bf1b53119f39b19b0b4"
            }
          },
          "metadata": {}
        }
      ],
      "source": [
        "import shap\n",
        "data_x,data_y,human_pred = list(dataset.data_test_loader)[0]\n",
        "#joint values\n",
        "explainer = shap.KernelExplainer(predict, data_x.numpy())\n",
        "shap_values = explainer.shap_values(data_x.numpy())\n",
        "\n",
        "#surrogate_values\n",
        "sur_explainer = shap.Explainer(surrogate)\n",
        "sur_shap_values = sur_explainer(data_x.numpy())"
      ]
    },
    {
      "cell_type": "code",
      "execution_count": 39,
      "metadata": {
        "id": "5TeqgqGBrmG0"
      },
      "outputs": [],
      "source": [
        " import pandas as pd\n",
        " broward_data = pd.read_csv(\n",
        "                    \"data/allDataBroward/BROWARD_CLEAN_SUBSET.csv\"\n",
        "                )"
      ]
    },
    {
      "cell_type": "code",
      "execution_count": 40,
      "metadata": {
        "id": "DN37t8Ewr4Fw"
      },
      "outputs": [],
      "source": [
        "broward_data = broward_data.drop([\"block_num\", \"id\",\"two_year_recid\"], axis=1)"
      ]
    },
    {
      "cell_type": "code",
      "source": [
        "data_x.numpy().shape"
      ],
      "metadata": {
        "colab": {
          "base_uri": "https://localhost:8080/"
        },
        "id": "7UOd5a4bbnHo",
        "outputId": "c3ff4ba5-26ef-48ff-f261-7764dc0c0b53"
      },
      "execution_count": 41,
      "outputs": [
        {
          "output_type": "execute_result",
          "data": {
            "text/plain": [
              "(200, 9)"
            ]
          },
          "metadata": {},
          "execution_count": 41
        }
      ]
    },
    {
      "cell_type": "code",
      "source": [
        "from scipy import stats\n",
        "import matplotlib.colors as mcolors\n",
        "# Create a custom colormap similar to SHAP's\n",
        "colors = ['#0283F8', '#0078F3', '#3369E8', '#605BDA',\"#7D49CB\",\n",
        "          \"#9331B7\",\"#A918A8\",\"#C4009A\",\"#DA008B\",\"#EA007B\",\n",
        "          \"#F7006A\",\"#FF0059\"]\n",
        "n_bins = len(colors)\n",
        "shap_cmap = mcolors.LinearSegmentedColormap.from_list(\"custom_cmap\", colors, N=n_bins)\n",
        "\n",
        "for i, name in enumerate(broward_data.columns):\n",
        "      x = shap_values[:, i]\n",
        "      y = sur_shap_values.values[:, i]\n",
        "      values = data_x[:,i]\n",
        "\n",
        "      # Create the scatter plot\n",
        "      fig, ax = plt.subplots(figsize=(4.2,3),dpi=200)\n",
        "      ax.scatter(x, y,marker=\".\",c=values, cmap=shap_cmap)\n",
        "\n",
        "      # Calculate and plot the linear regression line\n",
        "      slope, intercept, r_value, _, _ = stats.linregress(x, y)\n",
        "      line = slope * x + intercept\n",
        "      ax.plot(x, line, color='k')\n",
        "\n",
        "      # Plot x=y line\n",
        "      min_val = min(x.min(), y.min())\n",
        "      max_val = max(x.max(), y.max())\n",
        "      ax.plot([min_val, max_val], [min_val, max_val], color='k', alpha=0.2, linestyle='--')\n",
        "\n",
        "      # Calculate correlation coefficient\n",
        "      correlation = np.corrcoef(x, y)[0, 1]\n",
        "\n",
        "      # Set title, labels, and legend\n",
        "      ax.set_title(f\"{name}\")\n",
        "      ax.set_xlabel(\"Joint\")\n",
        "      ax.set_ylabel(\"Surrogate\")\n",
        "      ax.spines[['right', 'top']].set_visible(False)\n",
        "      ax.plot([],[],color=\"white\",label=f\"Slope: {slope:.2f}\")\n",
        "      ax.plot([],[],color=\"white\",label=f\"Corr: {correlation:.2f}\")\n",
        "      plt.legend(fontsize=7,loc=\"lower right\", frameon=False)\n",
        "      plt.show()"
      ],
      "metadata": {
        "id": "LmtSu1g6U2M2"
      },
      "execution_count": null,
      "outputs": []
    },
    {
      "cell_type": "code",
      "source": [
        "#for batch, (data_x, data_y, hum_preds) in enumerate(dataloader):\n",
        "def predict_outputs(data_x):\n",
        "  outputs = RS.model(torch.from_numpy(data_x))\n",
        "  outputs_class = F.softmax(outputs[:, :-1], dim=1)\n",
        "  outputs = F.softmax(outputs, dim=1)\n",
        "  max_probs, predicted_class = torch.max(outputs.data[:, :-1], 1)\n",
        "  return predicted_class"
      ],
      "metadata": {
        "id": "7_NoFujyeTWs"
      },
      "execution_count": null,
      "outputs": []
    },
    {
      "cell_type": "code",
      "source": [
        "preds = predict_outputs(data_x.numpy())"
      ],
      "metadata": {
        "id": "Fgdjv6Cpjy-M"
      },
      "execution_count": null,
      "outputs": []
    },
    {
      "cell_type": "code",
      "execution_count": null,
      "metadata": {
        "id": "94k1mIUp0L_A"
      },
      "outputs": [],
      "source": [
        "import pandas as pd\n",
        "hatespeech_data = pd.read_csv(\n",
        "                    \"data/hatespeech_labeled_data.csv\"\n",
        "                )"
      ]
    },
    {
      "cell_type": "code",
      "execution_count": null,
      "metadata": {
        "colab": {
          "background_save": true
        },
        "id": "-qii_41sytP3"
      },
      "outputs": [],
      "source": [
        "import logging\n",
        "import os\n",
        "import pickle\n",
        "import sys\n",
        "\n",
        "import torch\n",
        "import torch.optim as optim\n",
        "\n",
        "sys.path.append(\"../\")\n",
        "import sys\n",
        "\n",
        "import torch\n",
        "import torch.nn as nn\n",
        "\n",
        "sys.path.append(\"../\")\n",
        "import argparse\n",
        "import datetime\n",
        "# allow logging to print everything\n",
        "import logging\n",
        "\n",
        "from baselines.lce_surrogate import *\n",
        "from datasetsdefer.synthetic_data import SyntheticData\n",
        "from helpers.metrics import *\n",
        "from networks.linear_net import *\n",
        "\n",
        "logging.basicConfig(level=logging.DEBUG)\n",
        "import datetime\n",
        "\n",
        "import torch.optim as optim\n",
        "from baselines.compare_confidence import *\n",
        "from baselines.differentiable_triage import *\n",
        "from baselines.lce_surrogate import *\n",
        "from baselines.mix_of_exps import *\n",
        "from baselines.one_v_all import *\n",
        "from baselines.selective_prediction import *\n",
        "from datasetsdefer.broward import *\n",
        "from datasetsdefer.chestxray import *\n",
        "from datasetsdefer.cifar_h import *\n",
        "from datasetsdefer.cifar_synth import *\n",
        "from datasetsdefer.generic_dataset import *\n",
        "from datasetsdefer.hatespeech import *\n",
        "from datasetsdefer.imagenet_16h import *\n",
        "from datasetsdefer.synthetic_data import *\n",
        "from methods.milpdefer import *\n",
        "from methods.realizable_surrogate import *\n",
        "from networks.cnn import *\n",
        "from networks.cnn import DenseNet121_CE, NetSimple, WideResNet\n",
        "\n",
        "\n",
        "def main():\n",
        "\n",
        "\n",
        "    date_now = datetime.datetime.now()\n",
        "    date_now = date_now.strftime(\"%Y-%m-%d_%H%M%S\")\n",
        "\n",
        "    device = torch.device(\"cuda:0\" if torch.cuda.is_available() else \"cpu\")\n",
        "    # {'classifier_all_acc': 0.9211, 'human_all_acc': 0.367, 'coverage': 0.9904, 'classifier_nondeferred_acc': 0.9262924071082391, 'human_deferred_acc': 0.3541666666666667, 'system_acc': 0.9208}\n",
        "\n",
        "    data_dir = 'data'\n",
        "    optimizer = optim.AdamW\n",
        "    scheduler = None\n",
        "    lr = 0.01\n",
        "    max_trials = 10\n",
        "    total_epochs = 500# 100\n",
        "    errors_lce = []\n",
        "    errors_rs = []\n",
        "    errors_one_v_all = []\n",
        "    errors_selective = []\n",
        "    errors_compare_confidence = []\n",
        "    errors_differentiable_triage = []\n",
        "    errors_mixofexps = []\n",
        "\n",
        "    # generate data\n",
        "    dataset = BrowardDataset(data_dir, test_split = 0.2, val_split = 0.1)\n",
        "\n",
        "    model = LinearNet(dataset.d,3).to(device)\n",
        "    RS = RealizableSurrogate(1, 300, model, device, True)\n",
        "    RS.fit_hyperparam(\n",
        "        dataset.data_train_loader,\n",
        "        dataset.data_val_loader,\n",
        "        dataset.data_test_loader,\n",
        "        epochs=total_epochs,\n",
        "        optimizer=optimizer,\n",
        "        scheduler=scheduler,\n",
        "        lr=lr,\n",
        "        verbose=False,\n",
        "        test_interval=5,\n",
        "    )\n",
        "    rs_metrics = compute_coverage_v_acc_curve(RS.test(dataset.data_test_loader))\n",
        "\n",
        "    model = LinearNet(dataset.d,3).to(device)\n",
        "    LCE = LceSurrogate(1, 300, model, device)\n",
        "    LCE.fit_hyperparam(\n",
        "        dataset.data_train_loader,\n",
        "        dataset.data_val_loader,\n",
        "        dataset.data_test_loader,\n",
        "        epochs=total_epochs,\n",
        "        optimizer=optimizer,\n",
        "        scheduler=scheduler,\n",
        "        lr=lr,\n",
        "        verbose=False,\n",
        "        test_interval=5,\n",
        "    )\n",
        "    lce_metrics = compute_coverage_v_acc_curve(LCE.test(dataset.data_test_loader))\n",
        "\n",
        "    model = LinearNet(dataset.d,3).to(device)\n",
        "    OVA = OVASurrogate(1, 300, model, device)\n",
        "    OVA.fit(\n",
        "        dataset.data_train_loader,\n",
        "        dataset.data_val_loader,\n",
        "        dataset.data_test_loader,\n",
        "        epochs=total_epochs,\n",
        "        optimizer=optimizer,\n",
        "        scheduler=scheduler,\n",
        "        lr=lr,\n",
        "        verbose=False,\n",
        "        test_interval=5,\n",
        "    )\n",
        "    ova_metrics = compute_coverage_v_acc_curve(OVA.test(dataset.data_test_loader))\n",
        "\n",
        "    model = LinearNet(dataset.d,2).to(device)\n",
        "    SP = SelectivePrediction(model, device)\n",
        "    SP.fit(\n",
        "        dataset.data_train_loader,\n",
        "        dataset.data_val_loader,\n",
        "        dataset.data_test_loader,\n",
        "        epochs=total_epochs,\n",
        "        optimizer=optimizer,\n",
        "        scheduler=scheduler,\n",
        "        lr=lr,\n",
        "        verbose=False,\n",
        "        test_interval=5,\n",
        "    )\n",
        "    sp_metrics = compute_coverage_v_acc_curve(SP.test(dataset.data_test_loader))\n",
        "\n",
        "\n",
        "main()\n"
      ]
    },
    {
      "cell_type": "code",
      "execution_count": null,
      "metadata": {
        "id": "yw76nWdx30Hj"
      },
      "outputs": [],
      "source": []
    }
  ],
  "metadata": {
    "colab": {
      "provenance": []
    },
    "kernelspec": {
      "display_name": "Python 3",
      "name": "python3"
    },
    "language_info": {
      "name": "python"
    },
    "widgets": {
      "application/vnd.jupyter.widget-state+json": {
        "3c62128f921d4bf1b53119f39b19b0b4": {
          "model_module": "@jupyter-widgets/controls",
          "model_name": "HBoxModel",
          "model_module_version": "1.5.0",
          "state": {
            "_dom_classes": [],
            "_model_module": "@jupyter-widgets/controls",
            "_model_module_version": "1.5.0",
            "_model_name": "HBoxModel",
            "_view_count": null,
            "_view_module": "@jupyter-widgets/controls",
            "_view_module_version": "1.5.0",
            "_view_name": "HBoxView",
            "box_style": "",
            "children": [
              "IPY_MODEL_0eb64b3a9296409397450be2635d6422",
              "IPY_MODEL_8aacc145196243dfb2a7dae0c0bf81a0",
              "IPY_MODEL_35eb09c87e814045b6ecf8d833a91629"
            ],
            "layout": "IPY_MODEL_2613b59de73f41d4862c2431f84b4a94"
          }
        },
        "0eb64b3a9296409397450be2635d6422": {
          "model_module": "@jupyter-widgets/controls",
          "model_name": "HTMLModel",
          "model_module_version": "1.5.0",
          "state": {
            "_dom_classes": [],
            "_model_module": "@jupyter-widgets/controls",
            "_model_module_version": "1.5.0",
            "_model_name": "HTMLModel",
            "_view_count": null,
            "_view_module": "@jupyter-widgets/controls",
            "_view_module_version": "1.5.0",
            "_view_name": "HTMLView",
            "description": "",
            "description_tooltip": null,
            "layout": "IPY_MODEL_727ca0bb91c2419e91df2ae6ee8c39b4",
            "placeholder": "​",
            "style": "IPY_MODEL_951343d9b594491ebab57f98d8ddb550",
            "value": "100%"
          }
        },
        "8aacc145196243dfb2a7dae0c0bf81a0": {
          "model_module": "@jupyter-widgets/controls",
          "model_name": "FloatProgressModel",
          "model_module_version": "1.5.0",
          "state": {
            "_dom_classes": [],
            "_model_module": "@jupyter-widgets/controls",
            "_model_module_version": "1.5.0",
            "_model_name": "FloatProgressModel",
            "_view_count": null,
            "_view_module": "@jupyter-widgets/controls",
            "_view_module_version": "1.5.0",
            "_view_name": "ProgressView",
            "bar_style": "success",
            "description": "",
            "description_tooltip": null,
            "layout": "IPY_MODEL_67a8041b2aad4b8d9af0930ddafb68ef",
            "max": 200,
            "min": 0,
            "orientation": "horizontal",
            "style": "IPY_MODEL_61ae9c1f17464f0385a0cf2e265e2252",
            "value": 200
          }
        },
        "35eb09c87e814045b6ecf8d833a91629": {
          "model_module": "@jupyter-widgets/controls",
          "model_name": "HTMLModel",
          "model_module_version": "1.5.0",
          "state": {
            "_dom_classes": [],
            "_model_module": "@jupyter-widgets/controls",
            "_model_module_version": "1.5.0",
            "_model_name": "HTMLModel",
            "_view_count": null,
            "_view_module": "@jupyter-widgets/controls",
            "_view_module_version": "1.5.0",
            "_view_name": "HTMLView",
            "description": "",
            "description_tooltip": null,
            "layout": "IPY_MODEL_252f405df2a247cd9e295f9a81ad1d9f",
            "placeholder": "​",
            "style": "IPY_MODEL_d901c3e6f7b04c5fb46c473af6edb01c",
            "value": " 200/200 [07:57&lt;00:00,  2.37s/it]"
          }
        },
        "2613b59de73f41d4862c2431f84b4a94": {
          "model_module": "@jupyter-widgets/base",
          "model_name": "LayoutModel",
          "model_module_version": "1.2.0",
          "state": {
            "_model_module": "@jupyter-widgets/base",
            "_model_module_version": "1.2.0",
            "_model_name": "LayoutModel",
            "_view_count": null,
            "_view_module": "@jupyter-widgets/base",
            "_view_module_version": "1.2.0",
            "_view_name": "LayoutView",
            "align_content": null,
            "align_items": null,
            "align_self": null,
            "border": null,
            "bottom": null,
            "display": null,
            "flex": null,
            "flex_flow": null,
            "grid_area": null,
            "grid_auto_columns": null,
            "grid_auto_flow": null,
            "grid_auto_rows": null,
            "grid_column": null,
            "grid_gap": null,
            "grid_row": null,
            "grid_template_areas": null,
            "grid_template_columns": null,
            "grid_template_rows": null,
            "height": null,
            "justify_content": null,
            "justify_items": null,
            "left": null,
            "margin": null,
            "max_height": null,
            "max_width": null,
            "min_height": null,
            "min_width": null,
            "object_fit": null,
            "object_position": null,
            "order": null,
            "overflow": null,
            "overflow_x": null,
            "overflow_y": null,
            "padding": null,
            "right": null,
            "top": null,
            "visibility": null,
            "width": null
          }
        },
        "727ca0bb91c2419e91df2ae6ee8c39b4": {
          "model_module": "@jupyter-widgets/base",
          "model_name": "LayoutModel",
          "model_module_version": "1.2.0",
          "state": {
            "_model_module": "@jupyter-widgets/base",
            "_model_module_version": "1.2.0",
            "_model_name": "LayoutModel",
            "_view_count": null,
            "_view_module": "@jupyter-widgets/base",
            "_view_module_version": "1.2.0",
            "_view_name": "LayoutView",
            "align_content": null,
            "align_items": null,
            "align_self": null,
            "border": null,
            "bottom": null,
            "display": null,
            "flex": null,
            "flex_flow": null,
            "grid_area": null,
            "grid_auto_columns": null,
            "grid_auto_flow": null,
            "grid_auto_rows": null,
            "grid_column": null,
            "grid_gap": null,
            "grid_row": null,
            "grid_template_areas": null,
            "grid_template_columns": null,
            "grid_template_rows": null,
            "height": null,
            "justify_content": null,
            "justify_items": null,
            "left": null,
            "margin": null,
            "max_height": null,
            "max_width": null,
            "min_height": null,
            "min_width": null,
            "object_fit": null,
            "object_position": null,
            "order": null,
            "overflow": null,
            "overflow_x": null,
            "overflow_y": null,
            "padding": null,
            "right": null,
            "top": null,
            "visibility": null,
            "width": null
          }
        },
        "951343d9b594491ebab57f98d8ddb550": {
          "model_module": "@jupyter-widgets/controls",
          "model_name": "DescriptionStyleModel",
          "model_module_version": "1.5.0",
          "state": {
            "_model_module": "@jupyter-widgets/controls",
            "_model_module_version": "1.5.0",
            "_model_name": "DescriptionStyleModel",
            "_view_count": null,
            "_view_module": "@jupyter-widgets/base",
            "_view_module_version": "1.2.0",
            "_view_name": "StyleView",
            "description_width": ""
          }
        },
        "67a8041b2aad4b8d9af0930ddafb68ef": {
          "model_module": "@jupyter-widgets/base",
          "model_name": "LayoutModel",
          "model_module_version": "1.2.0",
          "state": {
            "_model_module": "@jupyter-widgets/base",
            "_model_module_version": "1.2.0",
            "_model_name": "LayoutModel",
            "_view_count": null,
            "_view_module": "@jupyter-widgets/base",
            "_view_module_version": "1.2.0",
            "_view_name": "LayoutView",
            "align_content": null,
            "align_items": null,
            "align_self": null,
            "border": null,
            "bottom": null,
            "display": null,
            "flex": null,
            "flex_flow": null,
            "grid_area": null,
            "grid_auto_columns": null,
            "grid_auto_flow": null,
            "grid_auto_rows": null,
            "grid_column": null,
            "grid_gap": null,
            "grid_row": null,
            "grid_template_areas": null,
            "grid_template_columns": null,
            "grid_template_rows": null,
            "height": null,
            "justify_content": null,
            "justify_items": null,
            "left": null,
            "margin": null,
            "max_height": null,
            "max_width": null,
            "min_height": null,
            "min_width": null,
            "object_fit": null,
            "object_position": null,
            "order": null,
            "overflow": null,
            "overflow_x": null,
            "overflow_y": null,
            "padding": null,
            "right": null,
            "top": null,
            "visibility": null,
            "width": null
          }
        },
        "61ae9c1f17464f0385a0cf2e265e2252": {
          "model_module": "@jupyter-widgets/controls",
          "model_name": "ProgressStyleModel",
          "model_module_version": "1.5.0",
          "state": {
            "_model_module": "@jupyter-widgets/controls",
            "_model_module_version": "1.5.0",
            "_model_name": "ProgressStyleModel",
            "_view_count": null,
            "_view_module": "@jupyter-widgets/base",
            "_view_module_version": "1.2.0",
            "_view_name": "StyleView",
            "bar_color": null,
            "description_width": ""
          }
        },
        "252f405df2a247cd9e295f9a81ad1d9f": {
          "model_module": "@jupyter-widgets/base",
          "model_name": "LayoutModel",
          "model_module_version": "1.2.0",
          "state": {
            "_model_module": "@jupyter-widgets/base",
            "_model_module_version": "1.2.0",
            "_model_name": "LayoutModel",
            "_view_count": null,
            "_view_module": "@jupyter-widgets/base",
            "_view_module_version": "1.2.0",
            "_view_name": "LayoutView",
            "align_content": null,
            "align_items": null,
            "align_self": null,
            "border": null,
            "bottom": null,
            "display": null,
            "flex": null,
            "flex_flow": null,
            "grid_area": null,
            "grid_auto_columns": null,
            "grid_auto_flow": null,
            "grid_auto_rows": null,
            "grid_column": null,
            "grid_gap": null,
            "grid_row": null,
            "grid_template_areas": null,
            "grid_template_columns": null,
            "grid_template_rows": null,
            "height": null,
            "justify_content": null,
            "justify_items": null,
            "left": null,
            "margin": null,
            "max_height": null,
            "max_width": null,
            "min_height": null,
            "min_width": null,
            "object_fit": null,
            "object_position": null,
            "order": null,
            "overflow": null,
            "overflow_x": null,
            "overflow_y": null,
            "padding": null,
            "right": null,
            "top": null,
            "visibility": null,
            "width": null
          }
        },
        "d901c3e6f7b04c5fb46c473af6edb01c": {
          "model_module": "@jupyter-widgets/controls",
          "model_name": "DescriptionStyleModel",
          "model_module_version": "1.5.0",
          "state": {
            "_model_module": "@jupyter-widgets/controls",
            "_model_module_version": "1.5.0",
            "_model_name": "DescriptionStyleModel",
            "_view_count": null,
            "_view_module": "@jupyter-widgets/base",
            "_view_module_version": "1.2.0",
            "_view_name": "StyleView",
            "description_width": ""
          }
        }
      }
    }
  },
  "nbformat": 4,
  "nbformat_minor": 0
}